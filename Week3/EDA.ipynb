{
 "cells": [
  {
   "cell_type": "code",
   "execution_count": null,
   "metadata": {},
   "outputs": [],
   "source": [
    "import pandas as pd\n",
    "from glob import glob\n",
    "import warnings\n",
    "warnings.filterwarnings('ignore') # 경고 메세지를 출력 안 하는 코드입니다.\n",
    "\n",
    "base_dir = \"\" # 알집 풀어주신 곳 폴더를 넣으시면 됩니다.\n",
    "file_lst = glob(base_dir + \"*.csv\")\n",
    "\n",
    "\n",
    "\n",
    "\n",
    "concat_df"
   ]
  },
  {
   "cell_type": "code",
   "execution_count": null,
   "metadata": {},
   "outputs": [],
   "source": []
  }
 ],
 "metadata": {
  "language_info": {
   "name": "python"
  },
  "orig_nbformat": 4
 },
 "nbformat": 4,
 "nbformat_minor": 2
}
