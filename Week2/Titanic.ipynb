{
 "cells": [
  {
   "cell_type": "code",
   "execution_count": null,
   "metadata": {},
   "outputs": [],
   "source": [
    "def example_scatter_plot():\n",
    "    x=[]\n",
    "    y=[]\n",
    "    f = open('gender_submission.csv','r')\n",
    "    reader = csv.reader(f)\n",
    "    for row in reader:\n",
    "        x.append(float(row[0]))\n",
    "        y.append(float(row[1]))\n",
    "    f.close()\n",
    "    \n",
    "    plt.scatter(x,y)\n",
    "    \n",
    "    plt.title(\"title\")\n",
    "    plt.xlabel(\"x label\")\n",
    "    plt.ylabel(\"y label\")\n",
    "    \n",
    "        \n",
    "    plt.show\n",
    "\n",
    "plt.show()"
   ]
  }
 ],
 "metadata": {
  "language_info": {
   "name": "python"
  },
  "orig_nbformat": 4
 },
 "nbformat": 4,
 "nbformat_minor": 2
}
